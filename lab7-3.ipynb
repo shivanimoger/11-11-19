{
 "cells": [
  {
   "cell_type": "code",
   "execution_count": 1,
   "metadata": {},
   "outputs": [],
   "source": [
    "import numpy as np\n",
    "import pandas as pd\n",
    "import csv\n",
    "from pgmpy.estimators import MaximumLikelihoodEstimator\n",
    "from pgmpy.models import BayesianModel\n",
    "from pgmpy.inference import VariableElimination\n",
    "#Read the attributes\n",
    "lines = list(csv.reader(open('data7_names.csv', 'r')));\n",
    "attributes = lines[0]\n",
    "#Read Cleveland Heart dicease data\n",
    "heartDisease = pd.read_csv('data7_heart.csv', names = attributes)\n",
    "heartDisease = heartDisease.replace('?', np.nan)"
   ]
  },
  {
   "cell_type": "code",
   "execution_count": 2,
   "metadata": {},
   "outputs": [
    {
     "name": "stdout",
     "output_type": "stream",
     "text": [
      "\n",
      "Learning CPDs using Maximum Likelihood Estimators...\n",
      "\n",
      "Inferencing with Bayesian Network:\n",
      "\n",
      "1.Probability of HeartDisease given Age=28\n",
      "+----------------+---------------------+\n",
      "| heartdisease   |   phi(heartdisease) |\n",
      "+================+=====================+\n",
      "| heartdisease_0 |              0.5932 |\n",
      "+----------------+---------------------+\n",
      "| heartdisease_1 |              0.1714 |\n",
      "+----------------+---------------------+\n",
      "| heartdisease_2 |              0.0811 |\n",
      "+----------------+---------------------+\n",
      "| heartdisease_3 |              0.1138 |\n",
      "+----------------+---------------------+\n",
      "| heartdisease_4 |              0.0405 |\n",
      "+----------------+---------------------+\n",
      "\n",
      "2. Probability of HeartDisease given chol (Cholestoral) =100\n",
      "+----------------+---------------------+\n",
      "| heartdisease   |   phi(heartdisease) |\n",
      "+================+=====================+\n",
      "| heartdisease_0 |              1.0000 |\n",
      "+----------------+---------------------+\n",
      "| heartdisease_1 |              0.0000 |\n",
      "+----------------+---------------------+\n",
      "| heartdisease_2 |              0.0000 |\n",
      "+----------------+---------------------+\n",
      "| heartdisease_3 |              0.0000 |\n",
      "+----------------+---------------------+\n",
      "| heartdisease_4 |              0.0000 |\n",
      "+----------------+---------------------+\n"
     ]
    }
   ],
   "source": [
    "# Display the data\n",
    "#print('Few examples from the dataset are given below')\n",
    "#print(heartDisease.head())\n",
    "#print('\\nAttributes and datatypes')\n",
    "#print(heartDisease.dtypes)\n",
    "# Model Baysian Network\n",
    "model = BayesianModel([('age', 'trestbps'), ('age', 'fbs'), ('sex', 'trestbps'), ('sex', 'trestbps'),\n",
    "('exang', 'trestbps'),('trestbps','heartdisease'),('fbs','heartdisease'),\n",
    "('heartdisease','restecg'),('heartdisease','thalach'),('heartdisease','chol')])\n",
    "# Learning CPDs using Maximum Likelihood Estimators\n",
    "print('\\nLearning CPDs using Maximum Likelihood Estimators...');\n",
    "model.fit(heartDisease, estimator=MaximumLikelihoodEstimator)\n",
    "# Inferencing with Bayesian Network\n",
    "print('\\nInferencing with Bayesian Network:')\n",
    "HeartDisease_infer = VariableElimination(model)\n",
    "# Computing the probability of bronc given smoke.\n",
    "print('\\n1.Probability of HeartDisease given Age=28')\n",
    "q = HeartDisease_infer.query(variables=['heartdisease'], evidence={'age': 28})\n",
    "print(q['heartdisease'])\n",
    "print('\\n2. Probability of HeartDisease given chol (Cholestoral) =100')\n",
    "q = HeartDisease_infer.query(variables=['heartdisease'], evidence={'chol': 100})\n",
    "print(q['heartdisease'])\n",
    "\n",
    "\n",
    "\n"
   ]
  },
  {
   "cell_type": "code",
   "execution_count": null,
   "metadata": {},
   "outputs": [],
   "source": []
  }
 ],
 "metadata": {
  "kernelspec": {
   "display_name": "Python 3",
   "language": "python",
   "name": "python3"
  },
  "language_info": {
   "codemirror_mode": {
    "name": "ipython",
    "version": 3
   },
   "file_extension": ".py",
   "mimetype": "text/x-python",
   "name": "python",
   "nbconvert_exporter": "python",
   "pygments_lexer": "ipython3",
   "version": "3.6.5"
  }
 },
 "nbformat": 4,
 "nbformat_minor": 2
}
